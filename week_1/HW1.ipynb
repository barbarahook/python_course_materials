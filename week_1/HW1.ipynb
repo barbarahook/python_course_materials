{
  "nbformat": 4,
  "nbformat_minor": 0,
  "metadata": {
    "colab": {
      "provenance": []
    },
    "kernelspec": {
      "name": "python3",
      "display_name": "Python 3"
    },
    "language_info": {
      "name": "python"
    }
  },
  "cells": [
    {
      "cell_type": "code",
      "execution_count": null,
      "metadata": {
        "id": "LW40_9rqSPAU",
        "colab": {
          "base_uri": "https://localhost:8080/"
        },
        "outputId": "9c37eea2-2458-4d35-f960-4ab2ad7d8f1e"
      },
      "outputs": [
        {
          "output_type": "stream",
          "name": "stdout",
          "text": [
            "17\n"
          ]
        }
      ],
      "source": [
        "print (1 + 7 + 9)"
      ]
    },
    {
      "cell_type": "code",
      "source": [
        "n = int(input())\n",
        "print(n//60%24, n%60)\n",
        "\n",
        "\n"
      ],
      "metadata": {
        "colab": {
          "base_uri": "https://localhost:8080/"
        },
        "id": "KbvOAqkcJ6nP",
        "outputId": "658dfbd7-4fdd-430e-eb78-f3c9cdd14e65"
      },
      "execution_count": null,
      "outputs": [
        {
          "output_type": "stream",
          "name": "stdout",
          "text": [
            "150\n",
            "2 30\n"
          ]
        }
      ]
    }
  ]
}