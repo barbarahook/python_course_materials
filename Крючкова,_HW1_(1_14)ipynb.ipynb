{
  "nbformat": 4,
  "nbformat_minor": 0,
  "metadata": {
    "colab": {
      "provenance": [],
      "authorship_tag": "ABX9TyOcU0oGBTcdYC9FVoGDdbSY",
      "include_colab_link": true
    },
    "kernelspec": {
      "name": "python3",
      "display_name": "Python 3"
    },
    "language_info": {
      "name": "python"
    }
  },
  "cells": [
    {
      "cell_type": "markdown",
      "metadata": {
        "id": "view-in-github",
        "colab_type": "text"
      },
      "source": [
        "<a href=\"https://colab.research.google.com/github/barbarahook/python_course_materials/blob/year22-23/%D0%9A%D1%80%D1%8E%D1%87%D0%BA%D0%BE%D0%B2%D0%B0%2C_HW1_(1_14)ipynb.ipynb\" target=\"_parent\"><img src=\"https://colab.research.google.com/assets/colab-badge.svg\" alt=\"Open In Colab\"/></a>"
      ]
    },
    {
      "cell_type": "markdown",
      "source": [
        "0. Наибольший общий делитель - 1 балл"
      ],
      "metadata": {
        "id": "bn4gfpJuSl52"
      }
    },
    {
      "cell_type": "code",
      "execution_count": null,
      "metadata": {
        "colab": {
          "base_uri": "https://localhost:8080/"
        },
        "id": "EizsFBA564DH",
        "outputId": "d34cdece-a199-49e8-954d-4038d4388fa2"
      },
      "outputs": [
        {
          "output_type": "execute_result",
          "data": {
            "text/plain": [
              "2"
            ]
          },
          "metadata": {},
          "execution_count": 11
        }
      ],
      "source": [
        "from math import gcd\n",
        ">>> gcd(10,2)"
      ]
    },
    {
      "cell_type": "code",
      "source": [
        "from math import gcd\n",
        ">>> gcd (10,25)"
      ],
      "metadata": {
        "colab": {
          "base_uri": "https://localhost:8080/"
        },
        "id": "3FKGKjCc7q48",
        "outputId": "6d8c8a93-2782-4017-e75f-d5e1c9a2db67"
      },
      "execution_count": null,
      "outputs": [
        {
          "output_type": "execute_result",
          "data": {
            "text/plain": [
              "5"
            ]
          },
          "metadata": {},
          "execution_count": 12
        }
      ]
    },
    {
      "cell_type": "markdown",
      "source": [
        "1. Задачка про перевод из camel_case'a в snake_case - 1.5 балла"
      ],
      "metadata": {
        "id": "PXYe_QBxS8SP"
      }
    },
    {
      "cell_type": "code",
      "source": [
        "def change_case(str):\n",
        "    return ''.join(['_'+i.lower() if i.isupper()\n",
        "               else i for i in str]).lstrip('_')   \n",
        "str = \"camelCaseVar\"\n",
        "print(change_case(str))"
      ],
      "metadata": {
        "colab": {
          "base_uri": "https://localhost:8080/"
        },
        "id": "m2OHlEIxGUpn",
        "outputId": "9ba5104e-c5ac-4c05-99a5-742e4a44dbed"
      },
      "execution_count": 1,
      "outputs": [
        {
          "output_type": "stream",
          "name": "stdout",
          "text": [
            "camel_case_var\n"
          ]
        }
      ]
    },
    {
      "cell_type": "markdown",
      "source": [
        "2. Про Поросёнка Петра - 2 балла\n"
      ],
      "metadata": {
        "id": "9Qf9o0RWTXow"
      }
    },
    {
      "cell_type": "code",
      "source": [],
      "metadata": {
        "id": "truBVrreTnhU"
      },
      "execution_count": null,
      "outputs": []
    },
    {
      "cell_type": "markdown",
      "source": [
        "3. Sort the keys of the dictionary from a to z. - 0.5 балла"
      ],
      "metadata": {
        "id": "Ir9DjY1rTtSZ"
      }
    },
    {
      "cell_type": "code",
      "execution_count": 3,
      "metadata": {
        "colab": {
          "base_uri": "https://localhost:8080/"
        },
        "id": "4tXz5uqN9zwo",
        "outputId": "8e706912-fbb0-4a73-b5ca-4bc103c4b60f"
      },
      "outputs": [
        {
          "output_type": "execute_result",
          "data": {
            "text/plain": [
              "OrderedDict([('cheesecake', 4),\n",
              "             ('chocolate', 2),\n",
              "             ('pudding', 3),\n",
              "             ('tiramisu', 5)])"
            ]
          },
          "metadata": {},
          "execution_count": 3
        }
      ],
      "source": [
        " import collections\n",
        " d = {\"tiramisu\":5, \"chocolate\":2, \"pudding\":3, \"cheesecake\":4}\n",
        " od = collections.OrderedDict(sorted(d.items()))\n",
        " od"
      ]
    },
    {
      "cell_type": "markdown",
      "source": [
        "4. Compare three values, return true only if 2 or more values are equal - 0.5 балла"
      ],
      "metadata": {
        "id": "rTGx_02cUQek"
      }
    },
    {
      "cell_type": "code",
      "source": [
        "def checkequality (a, b, c):\n",
        "if a == b and b == c and c == a\n",
        "   return True \n",
        "   return False\n",
        "checkequality (4,5,4)\n"
      ],
      "metadata": {
        "colab": {
          "base_uri": "https://localhost:8080/",
          "height": 135
        },
        "id": "Zl4PdvYGUVLi",
        "outputId": "f3de59c4-df34-4688-c843-4a709147e07a"
      },
      "execution_count": 27,
      "outputs": [
        {
          "output_type": "error",
          "ename": "IndentationError",
          "evalue": "ignored",
          "traceback": [
            "\u001b[0;36m  File \u001b[0;32m\"<ipython-input-27-14f3c43a8b71>\"\u001b[0;36m, line \u001b[0;32m2\u001b[0m\n\u001b[0;31m    if a == b and b == c and c == a\u001b[0m\n\u001b[0m     ^\u001b[0m\n\u001b[0;31mIndentationError\u001b[0m\u001b[0;31m:\u001b[0m expected an indented block\n"
          ]
        }
      ]
    },
    {
      "cell_type": "markdown",
      "source": [
        "5. Given a list with pairs, sort on the sum of pairs - 0.5 балла"
      ],
      "metadata": {
        "id": "KvXNEsOzXCQs"
      }
    },
    {
      "cell_type": "code",
      "source": [
        "list = [(3,6),(4,7),(5,9),(8,4),(3,1)]\n",
        "sorted(list, key=sum)\n"
      ],
      "metadata": {
        "colab": {
          "base_uri": "https://localhost:8080/"
        },
        "id": "qW1w52vTj3HU",
        "outputId": "5786915a-f2b0-4b2d-ecf5-fd2625345616"
      },
      "execution_count": 18,
      "outputs": [
        {
          "output_type": "execute_result",
          "data": {
            "text/plain": [
              "[(3, 1), (3, 6), (4, 7), (8, 4), (5, 9)]"
            ]
          },
          "metadata": {},
          "execution_count": 18
        }
      ]
    },
    {
      "cell_type": "markdown",
      "source": [
        "6. Create a function that takes a list of numbers. Return the largest number in the list. - 0.5 балла"
      ],
      "metadata": {
        "id": "KfexnaDHYExT"
      }
    },
    {
      "cell_type": "code",
      "source": [
        "def findLargestNum(num):\n",
        "   return max (num)\n",
        "findLargestNum([4, 5, 1, 3])\n"
      ],
      "metadata": {
        "colab": {
          "base_uri": "https://localhost:8080/"
        },
        "id": "ojGWWDnPYGO_",
        "outputId": "a4db2d64-5d8a-438e-aa25-ccdca9f27f7c"
      },
      "execution_count": 24,
      "outputs": [
        {
          "output_type": "execute_result",
          "data": {
            "text/plain": [
              "5"
            ]
          },
          "metadata": {},
          "execution_count": 24
        }
      ]
    },
    {
      "cell_type": "code",
      "source": [
        "def findLargestNum(num):\n",
        "   return max (num)\n",
        "findLargestNum([300, 200, 600, 150])\n"
      ],
      "metadata": {
        "colab": {
          "base_uri": "https://localhost:8080/"
        },
        "id": "0UQ52u69YTjp",
        "outputId": "fc4fa87e-35c4-4416-e47d-24a457ca8be1"
      },
      "execution_count": 25,
      "outputs": [
        {
          "output_type": "execute_result",
          "data": {
            "text/plain": [
              "600"
            ]
          },
          "metadata": {},
          "execution_count": 25
        }
      ]
    },
    {
      "cell_type": "code",
      "source": [
        "def findLargestNum(num):\n",
        "   return max (num)\n",
        "findLargestNum([1000, 1001, 857, 1])"
      ],
      "metadata": {
        "colab": {
          "base_uri": "https://localhost:8080/"
        },
        "id": "Q367gXP4YU_Q",
        "outputId": "a77793fa-5bbb-4f9b-c624-ab293653a935"
      },
      "execution_count": 26,
      "outputs": [
        {
          "output_type": "execute_result",
          "data": {
            "text/plain": [
              "1001"
            ]
          },
          "metadata": {},
          "execution_count": 26
        }
      ]
    },
    {
      "cell_type": "markdown",
      "source": [
        "7. Create a function that takes a string and returns the concatenated first and last character. - 0.5 балла"
      ],
      "metadata": {
        "id": "Bs9U2XrCYlb9"
      }
    },
    {
      "cell_type": "code",
      "source": [
        "print ('ab' * 3)\n",
        "print ('kiwi' * 1)\n",
        "print ('cherry' * 2)\n"
      ],
      "metadata": {
        "colab": {
          "base_uri": "https://localhost:8080/"
        },
        "id": "W81qBDfykOcc",
        "outputId": "197c760c-4d81-456b-87bd-5163696c29f7"
      },
      "execution_count": 73,
      "outputs": [
        {
          "output_type": "stream",
          "name": "stdout",
          "text": [
            "ababab\n",
            "kiwi\n",
            "cherrycherry\n"
          ]
        }
      ]
    },
    {
      "cell_type": "markdown",
      "source": [
        "8. Create a function that takes a 2D list lst returns the sum of the minimum value in each row. - 0.5 балла"
      ],
      "metadata": {
        "id": "ZUYTLTqVYvhC"
      }
    },
    {
      "cell_type": "code",
      "source": [
        "def sum_of_minimums(list):\n",
        "    return sum(list(min, numbers))\n",
        "sum_of_minimums  \n",
        "[\n",
        "  [1, 2, 3, 4, 5],       \n",
        "  [5, 6, 7, 8, 9],       \n",
        "  [20, 21, 34, 56, 100]  \n",
        "]\n",
        "\n"
      ],
      "metadata": {
        "colab": {
          "base_uri": "https://localhost:8080/"
        },
        "id": "_H5jJHGBmVil",
        "outputId": "3a6b65bb-47f1-40b1-dc81-569dabc41074"
      },
      "execution_count": 99,
      "outputs": [
        {
          "output_type": "execute_result",
          "data": {
            "text/plain": [
              "[[1, 2, 3, 4, 5], [5, 6, 7, 8, 9], [20, 21, 34, 56, 100]]"
            ]
          },
          "metadata": {},
          "execution_count": 99
        }
      ]
    },
    {
      "cell_type": "markdown",
      "source": [
        "9. Create a function to return the amount of potatoes there are in a string. - 0.5 балла"
      ],
      "metadata": {
        "id": "1g-xQfeAY1at"
      }
    },
    {
      "cell_type": "code",
      "source": [
        "inp_str = \"potato\",\"potatopotato\", \"potatoapple\"\n",
        "str_cnt = inp_str.count(\"potato\")\n",
        "print(str_cnt)\n",
        "\n"
      ],
      "metadata": {
        "colab": {
          "base_uri": "https://localhost:8080/"
        },
        "id": "0R6LfTRAY70Y",
        "outputId": "f63910bb-b647-4c65-fbc1-7afd12dec01d"
      },
      "execution_count": 100,
      "outputs": [
        {
          "output_type": "stream",
          "name": "stdout",
          "text": [
            "1\n"
          ]
        }
      ]
    },
    {
      "cell_type": "markdown",
      "source": [
        "11. Given a letter and a list of words, return whether the letter does not appear in any of the words. - 0.5 балла"
      ],
      "metadata": {
        "id": "cebFFxoJrAm_"
      }
    }
  ]
}